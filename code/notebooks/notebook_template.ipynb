{
 "cells": [
  {
   "cell_type": "markdown",
   "id": "2555ebe1-72dc-4080-90c2-c29ff239ce45",
   "metadata": {},
   "source": [
    "# Project Name"
   ]
  },
  {
   "cell_type": "markdown",
   "id": "b744e857-794d-4aaf-9cb3-9242c53882bf",
   "metadata": {},
   "source": [
    "**Author:** Trey Wagner  \n",
    "**Last modified:** 11/17/2024 (created: 11/17/2024)  \n",
    "\n",
    "**Description:** A short paragrpah explaing project. "
   ]
  },
  {
   "cell_type": "markdown",
   "id": "9af99959-96fc-475f-84dc-cfb41850d526",
   "metadata": {},
   "source": [
    "<br>"
   ]
  },
  {
   "cell_type": "markdown",
   "id": "6435a440-2c60-4061-bac3-a5ce420f070b",
   "metadata": {},
   "source": [
    "Import Libraries:"
   ]
  },
  {
   "cell_type": "code",
   "execution_count": null,
   "id": "edc7de57-78d5-4366-8ca1-1a0f75c75d61",
   "metadata": {},
   "outputs": [],
   "source": [
    "import pandas as pd "
   ]
  },
  {
   "cell_type": "markdown",
   "id": "b51a57ef-2f95-43ee-adff-5c5ea3f28aae",
   "metadata": {},
   "source": [
    "Load Data:"
   ]
  },
  {
   "cell_type": "code",
   "execution_count": null,
   "id": "b8cb2029-1806-4f02-8a50-bbdaab25f68f",
   "metadata": {},
   "outputs": [],
   "source": [
    "# code to read csv file "
   ]
  }
 ],
 "metadata": {
  "kernelspec": {
   "display_name": "Python 3 (ipykernel)",
   "language": "python",
   "name": "python3"
  },
  "language_info": {
   "codemirror_mode": {
    "name": "ipython",
    "version": 3
   },
   "file_extension": ".py",
   "mimetype": "text/x-python",
   "name": "python",
   "nbconvert_exporter": "python",
   "pygments_lexer": "ipython3",
   "version": "3.12.3"
  }
 },
 "nbformat": 4,
 "nbformat_minor": 5
}
